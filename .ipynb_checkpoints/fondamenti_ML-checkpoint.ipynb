{
 "cells": [
  {
   "cell_type": "code",
   "execution_count": 3,
   "id": "d7f1e2ad-227d-4b6d-8245-f79765725cc6",
   "metadata": {},
   "outputs": [],
   "source": [
    "import pandas as pd\n",
    "import numpy as np\n",
    "from sklearn.model_selection import train_test_split\n",
    "from sklearn.preprocessing import StandardScaler\n",
    "from sklearn.linear_model import Ridge, Lasso, ElasticNet\n",
    "from sklearn.metrics import mean_squared_error"
   ]
  },
  {
   "cell_type": "markdown",
   "id": "d2659b5c-414f-46f1-bb10-556fadfc8a0e",
   "metadata": {},
   "source": [
    "# 1. Preparazione del Dataset:"
   ]
  },
  {
   "cell_type": "markdown",
   "id": "d48bc22c-674d-4082-9458-d6eb9d16a67a",
   "metadata": {},
   "source": [
    "###    - Caricamento e preprocessamento dei dati sui prezzi immobiliari.\n"
   ]
  },
  {
   "cell_type": "code",
   "execution_count": null,
   "id": "fdcfbd50-ef76-4f27-a485-abe28331c0a8",
   "metadata": {},
   "outputs": [],
   "source": [
    "# import direttamente dall'url\n",
    "url = 'https://proai-datasets.s3.eu-west-3.amazonaws.com/housing.csv'\n",
    "df_house = pd.read_csv(url)\n",
    "print(df_house.head())"
   ]
  },
  {
   "cell_type": "code",
   "execution_count": null,
   "id": "3108c999-fc11-4e86-a27a-16fc8998be6b",
   "metadata": {},
   "outputs": [],
   "source": [
    "# ricerca di eventuali colonne con dati mancanti\n",
    "nan_counts = df_house.isna().sum()\n",
    "print(nan_counts)"
   ]
  },
  {
   "cell_type": "markdown",
   "id": "e1e1a196-9772-497f-a74e-61da3542c9b7",
   "metadata": {},
   "source": [
    "##### *non ci sono colonne con dati mancanti*"
   ]
  },
  {
   "cell_type": "markdown",
   "id": "feae356b-05cf-4116-9851-9760717cb946",
   "metadata": {},
   "source": [
    "# 2. Implementazione dei Modelli di Regressione"
   ]
  },
  {
   "cell_type": "code",
   "execution_count": null,
   "id": "e79c4f3b-b52f-45e8-9a77-a9498122bca4",
   "metadata": {},
   "outputs": [],
   "source": [
    "X = df.drop(columns=['target'])\n",
    "y = df['target']\n",
    "\n",
    "# Standardizzazione \n",
    "scaler = StandardScaler()\n",
    "X_train_scaled = scaler.fit_transform(X_train)\n",
    "X_test_scaled = scaler.transform(X_test)\n",
    "\n",
    "modelli = dict()\n",
    "# Modello Ridge\n",
    "modelli[\"Ridge\"] = dict()\n",
    "modelli[\"Ridge\"][\"modello\"] = Ridge()\n",
    "modelli[\"Ridge\"][\"iperparametri\"] = {\"alpha\": np.logspace(-3, 1, 20)}\n",
    "\n",
    "# Modello Lasso\n",
    "modelli[\"Lasso\"] = dict()\n",
    "modelli[\"Lasso\"][\"modello\"] = Lasso()\n",
    "modelli[\"Lasso\"][\"iperparametri\"] = {\"alpha\": np.logspace(-3, 1, 20)}\n",
    "\n",
    "# Modello ElasticNet\n",
    "modelli[\"ElasticNet\"] = dict()\n",
    "modelli[\"ElasticNet\"][\"modello\"] = Lasso()\n",
    "modelli[\"ElasticNet\"][\"iperparametri\"] = {\"alpha\": np.logspace(-3, 1, 20), 'l1_ratio': np.linspace(0, 1, 10)}\n"
   ]
  },
  {
   "cell_type": "code",
   "execution_count": null,
   "id": "084185d9-e93a-466a-856c-64867c8d3bb1",
   "metadata": {},
   "outputs": [],
   "source": [
    "ridge_predictions = ridge_model.predict(X_test_scaled)\n",
    "ridge_mse = mean_squared_error(y_test, ridge_predictions)\n",
    "print(f'Ridge MSE: {ridge_mse}')"
   ]
  },
  {
   "cell_type": "code",
   "execution_count": 7,
   "id": "1db86eb0-7379-4933-b13f-02f8a304e746",
   "metadata": {},
   "outputs": [
    {
     "name": "stdout",
     "output_type": "stream",
     "text": [
      "[1.00000000e-03 1.26485522e-03 1.59985872e-03 2.02358965e-03\n",
      " 2.55954792e-03 3.23745754e-03 4.09491506e-03 5.17947468e-03\n",
      " 6.55128557e-03 8.28642773e-03 1.04811313e-02 1.32571137e-02\n",
      " 1.67683294e-02 2.12095089e-02 2.68269580e-02 3.39322177e-02\n",
      " 4.29193426e-02 5.42867544e-02 6.86648845e-02 8.68511374e-02\n",
      " 1.09854114e-01 1.38949549e-01 1.75751062e-01 2.22299648e-01\n",
      " 2.81176870e-01 3.55648031e-01 4.49843267e-01 5.68986603e-01\n",
      " 7.19685673e-01 9.10298178e-01 1.15139540e+00 1.45634848e+00\n",
      " 1.84206997e+00 2.32995181e+00 2.94705170e+00 3.72759372e+00\n",
      " 4.71486636e+00 5.96362332e+00 7.54312006e+00 9.54095476e+00\n",
      " 1.20679264e+01 1.52641797e+01 1.93069773e+01 2.44205309e+01\n",
      " 3.08884360e+01 3.90693994e+01 4.94171336e+01 6.25055193e+01\n",
      " 7.90604321e+01 1.00000000e+02]\n"
     ]
    }
   ],
   "source": [
    "def ottimizza_modello(modello, iperparametri):\n",
    "    grid_search = GridSearchCV(estimator=modello, param_grid=iperparametri, \n",
    "                           scoring='neg_mean_squared_error', cv=5, n_jobs=-1)\n",
    "\n",
    "    grid_search.fit(X_train_scaled, y_train)\n",
    "    \n",
    "    best_params = grid_search.best_params_\n",
    "    print(best_params)\n",
    "    best_score = -grid_search.best_score_\n",
    "    print(best_score)\n",
    "    best_model = grid_search.best_estimator_\n",
    "\n",
    "    return best_model\n",
    " "
   ]
  },
  {
   "cell_type": "code",
   "execution_count": null,
   "id": "aa722716-6bc1-45d4-83fe-6e1aa2021c49",
   "metadata": {},
   "outputs": [],
   "source": [
    "## coefficienti non nulli, scrivere bene questo codice...scrivere bene anche i print della funzione sopra\n",
    "\n",
    "import numpy as np\n",
    "from sklearn.linear_model import Lasso, ElasticNet\n",
    "from sklearn.preprocessing import StandardScaler\n",
    "from sklearn.model_selection import train_test_split\n",
    "\n",
    "# Supponiamo che 'df' sia il tuo DataFrame e che 'target' sia la colonna target\n",
    "# df = pd.read_csv('your_data.csv')  # Carica il tuo DataFrame\n",
    "X = df.drop(columns=['target'])\n",
    "y = df['target']\n",
    "\n",
    "# Suddivisione del dataset in train e test\n",
    "X_train, X_test, y_train, y_test = train_test_split(X, y, test_size=0.2, random_state=42)\n",
    "\n",
    "# Standardizzare le caratteristiche\n",
    "scaler = StandardScaler()\n",
    "X_train_scaled = scaler.fit_transform(X_train)\n",
    "X_test_scaled = scaler.transform(X_test)\n",
    "\n",
    "# Modello Lasso con un esempio di alpha\n",
    "lasso = Lasso(alpha=0.1)\n",
    "lasso.fit(X_train_scaled, y_train)\n",
    "lasso_coefs = lasso.coef_\n",
    "lasso_non_zero_coefs = np.sum(lasso_coefs != 0)\n",
    "\n",
    "# Modello ElasticNet con esempi di alpha e l1_ratio\n",
    "elasticnet = ElasticNet(alpha=0.1, l1_ratio=0.5)\n",
    "elasticnet.fit(X_train_scaled, y_train)\n",
    "elasticnet_coefs = elasticnet.coef_\n",
    "elasticnet_non_zero_coefs = np.sum(elasticnet_coefs != 0)\n",
    "\n",
    "print(f'Lasso - Numero di coefficienti non nulli: {lasso_non_zero_coefs}')\n",
    "print(f'ElasticNet - Numero di coefficienti non nulli: {elasticnet_non_zero_coefs}')"
   ]
  }
 ],
 "metadata": {
  "kernelspec": {
   "display_name": "Python 3 (ipykernel)",
   "language": "python",
   "name": "python3"
  },
  "language_info": {
   "codemirror_mode": {
    "name": "ipython",
    "version": 3
   },
   "file_extension": ".py",
   "mimetype": "text/x-python",
   "name": "python",
   "nbconvert_exporter": "python",
   "pygments_lexer": "ipython3",
   "version": "3.12.4"
  }
 },
 "nbformat": 4,
 "nbformat_minor": 5
}
